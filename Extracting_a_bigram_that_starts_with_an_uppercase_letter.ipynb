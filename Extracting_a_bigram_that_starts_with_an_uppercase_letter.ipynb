{
  "nbformat": 4,
  "nbformat_minor": 0,
  "metadata": {
    "colab": {
      "provenance": [],
      "authorship_tag": "ABX9TyOn8uSk+Wu8JJaIezeCJb+0",
      "include_colab_link": true
    },
    "kernelspec": {
      "name": "python3",
      "display_name": "Python 3"
    },
    "language_info": {
      "name": "python"
    }
  },
  "cells": [
    {
      "cell_type": "markdown",
      "metadata": {
        "id": "view-in-github",
        "colab_type": "text"
      },
      "source": [
        "<a href=\"https://colab.research.google.com/github/KILjungjoon/Python_Grammar/blob/main/Extracting_a_bigram_that_starts_with_an_uppercase_letter.ipynb\" target=\"_parent\"><img src=\"https://colab.research.google.com/assets/colab-badge.svg\" alt=\"Open In Colab\"/></a>"
      ]
    },
    {
      "cell_type": "markdown",
      "source": [
        "# Extracting a bigram that starts with an uppercase letter\n",
        "* 대문자로 시작하는 bigram 추출하기"
      ],
      "metadata": {
        "id": "IIMfMTdootXx"
      }
    },
    {
      "cell_type": "code",
      "source": [
        "# difine text\n",
        "text=\"My Favorite Fruits is a Hawaiian Kiwi of the United States\""
      ],
      "metadata": {
        "id": "9S7Y1jYMo6re"
      },
      "execution_count": 1,
      "outputs": []
    },
    {
      "cell_type": "code",
      "source": [
        "# tokenizing\n",
        "tokens=text.split()\n",
        "tokens"
      ],
      "metadata": {
        "colab": {
          "base_uri": "https://localhost:8080/"
        },
        "id": "bvdNO0HapMM7",
        "outputId": "f938f472-b2e6-4533-bc21-206c0b34ffec"
      },
      "execution_count": 3,
      "outputs": [
        {
          "output_type": "execute_result",
          "data": {
            "text/plain": [
              "['My',\n",
              " 'Favorite',\n",
              " 'Fruits',\n",
              " 'is',\n",
              " 'a',\n",
              " 'Hawaiian',\n",
              " 'Kiwi',\n",
              " 'of',\n",
              " 'the',\n",
              " 'United',\n",
              " 'States']"
            ]
          },
          "metadata": {},
          "execution_count": 3
        }
      ]
    },
    {
      "cell_type": "code",
      "source": [
        "# creat bigram\n",
        "import pandas as pd\n",
        "import nltk\n",
        "\n",
        "bigram = (pd.Series(nltk.ngrams(tokens, 2)).value_counts())\n",
        "bi_unq=bigram.sort_values()    # Generating the type (unique) and frequency of the bigram"
      ],
      "metadata": {
        "id": "LyDIJ_68pdoM"
      },
      "execution_count": 6,
      "outputs": []
    },
    {
      "cell_type": "code",
      "source": [
        "upper_pair=[]\n",
        "for grams in bi_unq.index:     # grams is tuple\n",
        "    if len(grams[0])>0 and len(grams[1])>0 :                                # Filter out spaces or non-characters\n",
        "        if grams[0][0].isupper()==True and grams[1][0].isupper()==True :    # Varify the first letter of a word is uppercase\n",
        "            upper_pair.append(grams[0]+' '+grams[1])\n",
        "\n",
        "upper_pair     # show the list"
      ],
      "metadata": {
        "colab": {
          "base_uri": "https://localhost:8080/"
        },
        "id": "fwUdPEutqRBY",
        "outputId": "48f84eea-52fa-4700-9b77-7214a4d3173a"
      },
      "execution_count": 7,
      "outputs": [
        {
          "output_type": "execute_result",
          "data": {
            "text/plain": [
              "['My Favorite', 'Favorite Fruits', 'Hawaiian Kiwi', 'United States']"
            ]
          },
          "metadata": {},
          "execution_count": 7
        }
      ]
    },
    {
      "cell_type": "code",
      "execution_count": 8,
      "metadata": {
        "colab": {
          "base_uri": "https://localhost:8080/"
        },
        "id": "AFC4ykGkoZJH",
        "outputId": "117f2462-0d49-402f-8d76-ea32309f7fc2"
      },
      "outputs": [
        {
          "output_type": "execute_result",
          "data": {
            "text/plain": [
              "['My Favorite', 'Favorite Fruits', 'Hawaiian Kiwi', 'United States']"
            ]
          },
          "metadata": {},
          "execution_count": 8
        }
      ],
      "source": [
        "text=\"My Favorite Fruits is a Hawaiian Kiwi of the United States\"\n",
        "tokens=text.split()\n",
        "# tokens\n",
        "\n",
        "# creat bigram\n",
        "import pandas as pd\n",
        "import nltk\n",
        "bigram = (pd.Series(nltk.ngrams(tokens, 2)).value_counts())\n",
        "bi_unq=bigram.sort_values()    # Generating the type (unique) and frequency of the bigram\n",
        "\n",
        "upper_pair=[]\n",
        "for grams in bi_unq.index:     # grams is tuple\n",
        "    if len(grams[0])>0 and len(grams[1])>0 :                                # Filter out spaces or non-characters\n",
        "        if grams[0][0].isupper()==True and grams[1][0].isupper()==True :    # Varify the first letter of a word is uppercase\n",
        "            upper_pair.append(grams[0]+' '+grams[1])\n",
        "\n",
        "upper_pair     # show the list"
      ]
    }
  ]
}