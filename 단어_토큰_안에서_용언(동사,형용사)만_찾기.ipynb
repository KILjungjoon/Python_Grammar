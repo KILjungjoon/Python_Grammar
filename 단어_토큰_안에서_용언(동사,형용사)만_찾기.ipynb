{
  "nbformat": 4,
  "nbformat_minor": 0,
  "metadata": {
    "colab": {
      "provenance": [],
      "authorship_tag": "ABX9TyMc7HRSxRmeHbr0masrNSyP",
      "include_colab_link": true
    },
    "kernelspec": {
      "name": "python3",
      "display_name": "Python 3"
    },
    "language_info": {
      "name": "python"
    }
  },
  "cells": [
    {
      "cell_type": "markdown",
      "metadata": {
        "id": "view-in-github",
        "colab_type": "text"
      },
      "source": [
        "<a href=\"https://colab.research.google.com/github/KILjungjoon/Python_Grammar/blob/main/%EB%8B%A8%EC%96%B4_%ED%86%A0%ED%81%B0_%EC%95%88%EC%97%90%EC%84%9C_%EC%9A%A9%EC%96%B8(%EB%8F%99%EC%82%AC%2C%ED%98%95%EC%9A%A9%EC%82%AC)%EB%A7%8C_%EC%B0%BE%EA%B8%B0.ipynb\" target=\"_parent\"><img src=\"https://colab.research.google.com/assets/colab-badge.svg\" alt=\"Open In Colab\"/></a>"
      ]
    },
    {
      "cell_type": "markdown",
      "source": [
        "### 가정\n",
        "* 단어 리스트 word_list가 있습니다. 단어의 개수는 109,817개입니다.</p>많은 단어 중에서 용언(동사, 형용사)을 관찰하고 싶습니다.</p> 어떻게 용언만 추출할까요? 그리고 용언은 총 몇 개인가요?\n",
        "</p>\n",
        "print(len(word_list))&nbsp&nbsp&nbsp&nbsp&nbsp&nbsp&nbsp&nbsp# word_list 안의 단어 개수를 출력</p>\n",
        "▶109817</p>\n",
        "print(word_list)&nbsp&nbsp&nbsp&nbsp&nbsp&nbsp&nbsp&nbsp&nbsp&nbsp&nbsp&nbsp&nbsp&nbsp&nbsp# 단어 출력</p>\n",
        "▶['카오스', '이론01', '자연01', '보다'....(중략)....'대종00', '모노그라피', '공쿨', '후보감']"
      ],
      "metadata": {
        "id": "I6zgY6BXmRws"
      }
    },
    {
      "cell_type": "code",
      "execution_count": null,
      "metadata": {
        "id": "ObZ-TgGFmKZB"
      },
      "outputs": [],
      "source": [
        "# 단어 뒤에 일렬번호를 붙이겠습니다.\n",
        "cnt = 0\n",
        "for word in word_list:\n",
        "    last_char = word[-1]\n",
        "    if last_char == '다':\n",
        "        # '다'로 끝나는 경우 처리\n",
        "        cnt += 1\n",
        "        print(word, cnt)\n",
        "    elif len(word) >= 3 and word[-2:].isdigit() and word[-3] == '다':\n",
        "        # 끝에서 3번째 글자가 '다'이면서 마지막 두 글자가 숫자인 경우 처리\n",
        "        cnt += 1\n",
        "        print(word, cnt)\n",
        "print(cnt)"
      ]
    },
    {
      "cell_type": "markdown",
      "source": [
        "보다, 1</p>\n",
        "새롭다, 2</p>\n",
        "일어나다, 3</p>\n",
        "중요하다, 4</p>\n",
        "의하다, 5</p>\n",
        "관하다02, 6</p>\n",
        "늦다, 7</p>\n",
        "빠르다, 8</p>\n",
        "다양하다, 9</p>\n",
        "있다, 10</p>\n",
        "...</p>\n",
        "(중략)</p>\n",
        "...</p>\n",
        "쓰이다02, 10839</p>\n",
        "그려지다, 10840</p>\n",
        "이채롭다, 10841</p>\n",
        "리얼하다, 10842</p>\n",
        "형체없다, 10843</p>\n",
        "자유롭다, 10844</p>\n",
        "속하다, 10845</p>\n",
        "기골차다, 10846</p>\n",
        "기인되다, 10847</p>\n",
        "10847\n"
      ],
      "metadata": {
        "id": "eDBz4N-VpEU1"
      }
    },
    {
      "cell_type": "code",
      "source": [
        "'''\n",
        "형태의미 분석이 된 말뭉치를 사용했기 때문에 일부 단어는 마지막에 어깨번호가 붙어 있습니다. ex) 쓰이다02\n",
        "용언은 총 10,847개입니다.\n",
        "'''"
      ],
      "metadata": {
        "id": "ox8SpsYWqZi0"
      },
      "execution_count": null,
      "outputs": []
    }
  ]
}