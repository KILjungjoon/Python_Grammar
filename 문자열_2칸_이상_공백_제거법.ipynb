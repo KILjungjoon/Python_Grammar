{
  "nbformat": 4,
  "nbformat_minor": 0,
  "metadata": {
    "colab": {
      "provenance": [],
      "authorship_tag": "ABX9TyPsXCfbP8wd8bWzKZwk+da2",
      "include_colab_link": true
    },
    "kernelspec": {
      "name": "python3",
      "display_name": "Python 3"
    },
    "language_info": {
      "name": "python"
    }
  },
  "cells": [
    {
      "cell_type": "markdown",
      "metadata": {
        "id": "view-in-github",
        "colab_type": "text"
      },
      "source": [
        "<a href=\"https://colab.research.google.com/github/KILjungjoon/Python_Grammar/blob/main/%EB%AC%B8%EC%9E%90%EC%97%B4_2%EC%B9%B8_%EC%9D%B4%EC%83%81_%EA%B3%B5%EB%B0%B1_%EC%A0%9C%EA%B1%B0%EB%B2%95.ipynb\" target=\"_parent\"><img src=\"https://colab.research.google.com/assets/colab-badge.svg\" alt=\"Open In Colab\"/></a>"
      ]
    },
    {
      "cell_type": "markdown",
      "source": [
        "* split으로 잘라서 다시 join으로 연결"
      ],
      "metadata": {
        "id": "jwbDqDy08kdB"
      }
    },
    {
      "cell_type": "code",
      "execution_count": 3,
      "metadata": {
        "colab": {
          "base_uri": "https://localhost:8080/"
        },
        "id": "H9IYkwu47jvI",
        "outputId": "17f67034-87c5-4716-ae09-5149e7065e34"
      },
      "outputs": [
        {
          "output_type": "stream",
          "name": "stdout",
          "text": [
            "The   quick  brown  fox  jumps   over  the  lazy dog\n",
            "52\n",
            "The quick brown fox jumps over the lazy dog\n",
            "43\n"
          ]
        }
      ],
      "source": [
        "str01= 'The   quick  brown  fox  jumps   over  the  lazy dog'\n",
        "print(str01)\n",
        "print(len(str01))\n",
        "str02= ' '.join(str01.split())\n",
        "print(str02)\n",
        "print(len(str02))"
      ]
    }
  ]
}